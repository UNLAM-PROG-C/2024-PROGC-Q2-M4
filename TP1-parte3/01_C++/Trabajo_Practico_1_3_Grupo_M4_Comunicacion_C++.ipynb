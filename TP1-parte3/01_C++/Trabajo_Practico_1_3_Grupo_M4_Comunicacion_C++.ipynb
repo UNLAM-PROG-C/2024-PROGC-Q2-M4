{
  "nbformat": 4,
  "nbformat_minor": 0,
  "metadata": {
    "colab": {
      "provenance": []
    },
    "kernelspec": {
      "name": "python3",
      "display_name": "Python 3"
    },
    "language_info": {
      "name": "python"
    }
  },
  "cells": [
    {
      "cell_type": "markdown",
      "source": [
        "# Trabajo Practico Nº1 - Parte 3: Comunicación y Sincronismo"
      ],
      "metadata": {
        "id": "gNXkUyPdISaj"
      }
    },
    {
      "cell_type": "markdown",
      "source": [
        "## Información General"
      ],
      "metadata": {
        "id": "8SGZ7SGAIUv5"
      }
    },
    {
      "cell_type": "markdown",
      "source": [
        "* **Universidad Nacional de la Matanza**\n",
        "* Materia: Programación Concurrente\n",
        "* Cuatrimestre: Segundo Cuatrimestre, Año 2024\n",
        "* Profesores:\n",
        "    * ADAGIO, MATIAS EZEQUIEL\n",
        "    * CARNUCCIO, ESTEBAN\n",
        "    * HIRSCHFELDT, DARIO\n",
        "    * PALOMO, MAXIMO FACUNDO\n",
        "    * VOLKER MARIANO LEONARDO\n",
        "* Grupo: M4\n",
        "\n",
        "\n",
        "* Integrantes:\n",
        "    * ANTONIOLI, IVÁN OSCAR\n",
        "    * DI NICCO, LUIS DEMETRIO\n",
        "    * SANDOVAL VASQUEZ, JUAN LEANDRO\n",
        "    * TIGANI MARTIN SEBASTIAN\n",
        "    * VILLCA, LUIS ALBERTO"
      ],
      "metadata": {
        "id": "eSBAMNzwIXll"
      }
    },
    {
      "cell_type": "markdown",
      "source": [
        "## Consigna"
      ],
      "metadata": {
        "id": "kQdDshITIeKZ"
      }
    },
    {
      "cell_type": "markdown",
      "source": [
        "**Fecha de entrega**: 25/09/2024\n",
        "\n",
        "**Forma de entrega**:\n",
        "Se debe generar un informe que contenga los siguientes puntos:\n",
        "\n",
        "*   **Carátula**: Con los integrantes del grupo.\n",
        "*   **Link a un repositorio de GitHub**: En donde se encuentre el archivo del cuaderno de Colab generado para este Trabajo Práctico. Este archivo debe ser con la extension ipynb. También se debe subir a GitHub el código fuente.\n",
        "*   **Conclusiones**: En esta sección se debe describir las dificultadas que encontraron al realizar el trabajo práctico.\n",
        "\n",
        "Entregar el informe por plataforma de MIeL. Este debe ser en formato .pdf, con nombre TP1_Parte3_NumeroDelGrupo.pdf.\n",
        "\n",
        "**Enunciado**: Una empresa desea optimizar el espacio utilizado en el edificio donde opera, para esto planean tener un solo baño con capacidad para **tres (3) empleados**, pero dado que actualmente su plantilla de empleados se compone de hombres y mujeres, la empresa quiere garantizar que en el baño no se encuentren hombres y mujeres al mismo tiempo.\n",
        "\n",
        "Desarrolle un programa que implemente el funcionamiento de dicho baño utilizando algún método de comunicación y/o sincronización."
      ],
      "metadata": {
        "id": "alSVVLesIfSR"
      }
    },
    {
      "cell_type": "markdown",
      "source": [
        "## Criterios a tener en cuenta"
      ],
      "metadata": {
        "id": "_jKXbYyNJl5T"
      }
    },
    {
      "cell_type": "markdown",
      "source": [
        "* [Coding Standard](https://google.github.io/styleguide/)\n",
        "* Ajustes específicos (Ej. llaves en la misma columna)\n",
        "* Espacios en lugar de tabulaciones (2 espacios)\n",
        "* Métodos/funciones con menos de 15 líneas.\n",
        "* Patrones de diseño\n",
        "* No debe haber números mágicos, uso de constantes descriptivas."
      ],
      "metadata": {
        "id": "5byAUV3xJmyh"
      }
    },
    {
      "cell_type": "markdown",
      "source": [
        "## Resolución"
      ],
      "metadata": {
        "id": "JfYk4gguERCT"
      }
    },
    {
      "cell_type": "markdown",
      "source": [
        "### Código"
      ],
      "metadata": {
        "id": "b_biBWDV8WiC"
      }
    },
    {
      "cell_type": "code",
      "source": [
        "%%writefile accesoBaño.cpp\n",
        "#include <iostream>\n",
        "#include <mutex>\n",
        "#include <semaphore>\n",
        "#include <sstream>\n",
        "#include <string>\n",
        "#include <thread>\n",
        "#include <unistd.h>\n",
        "#include <vector>\n",
        "\n",
        "using namespace std;\n",
        "using namespace chrono;\n",
        "using namespace this_thread;\n",
        "\n",
        "mutex imprimirPantalla;\n",
        "mutex accesoRegionCritica;\n",
        "counting_semaphore<3> turno(3);\n",
        "\n",
        "enum Baño\n",
        "{\n",
        "    VACIO = 0,\n",
        "    HAY_HOMBRES = 1,\n",
        "    HAY_MUJERES = 2\n",
        "};\n",
        "\n",
        "int cantidadMujeres = 0;\n",
        "int cantidadHombres = 0;\n",
        "int situacionBaño = VACIO;\n",
        "\n",
        "void mujeres(int numero)\n",
        "{\n",
        "    string nombre = \"Mujer \" + to_string(numero);\n",
        "\n",
        "    turno.acquire();\n",
        "    if (situacionBaño == HAY_HOMBRES)\n",
        "    {\n",
        "        turno.release();\n",
        "        while (situacionBaño == HAY_HOMBRES)\n",
        "        {\n",
        "            imprimirPantalla.lock();\n",
        "            cout << nombre + \" esperando\" << endl;\n",
        "            cout << \"-----------------------------------------\" << endl;\n",
        "            imprimirPantalla.unlock();\n",
        "            sleep_for(seconds(1));\n",
        "        }\n",
        "        turno.acquire();\n",
        "    }\n",
        "    accesoRegionCritica.lock();\n",
        "    cantidadMujeres++;\n",
        "    if (cantidadMujeres == 1)\n",
        "    {\n",
        "        situacionBaño = HAY_MUJERES;\n",
        "    }\n",
        "    imprimirPantalla.lock();\n",
        "    cout << nombre + \" entro al baño.\" << endl;\n",
        "    cout << \"\\t- CantidadHombres: \" + to_string(cantidadHombres) + \"\\n\\t- CantidadMujeres: \" + to_string(cantidadMujeres) << endl;\n",
        "    cout << \"-----------------------------------------\" << endl;\n",
        "    imprimirPantalla.unlock();\n",
        "    accesoRegionCritica.unlock();\n",
        "\n",
        "    sleep_for(seconds(2));\n",
        "\n",
        "    accesoRegionCritica.lock();\n",
        "    cantidadMujeres--;\n",
        "    if (cantidadMujeres == 0)\n",
        "    {\n",
        "        situacionBaño = VACIO;\n",
        "    }\n",
        "    accesoRegionCritica.unlock();\n",
        "    turno.release();\n",
        "    imprimirPantalla.lock();\n",
        "    cout << nombre + \" sale del baño.\" << endl;\n",
        "    cout << \"-----------------------------------------\" << endl;\n",
        "    imprimirPantalla.unlock();\n",
        "    sleep(0.1);\n",
        "}\n",
        "\n",
        "void hombres(int numero)\n",
        "{\n",
        "    string nombre = \"Hombre \" + to_string(numero);\n",
        "\n",
        "    turno.acquire();\n",
        "    if (situacionBaño == HAY_MUJERES)\n",
        "    {\n",
        "        turno.release();\n",
        "        while (situacionBaño == HAY_MUJERES)\n",
        "        {\n",
        "            imprimirPantalla.lock();\n",
        "            cout << nombre + \" esperando\" << endl;\n",
        "            cout << \"-----------------------------------------\" << endl;\n",
        "            imprimirPantalla.unlock();\n",
        "        }\n",
        "        turno.acquire();\n",
        "    }\n",
        "    accesoRegionCritica.lock();\n",
        "    cantidadHombres++;\n",
        "    if (cantidadHombres == 1)\n",
        "    {\n",
        "        situacionBaño = HAY_HOMBRES;\n",
        "    }\n",
        "    imprimirPantalla.lock();\n",
        "    cout << nombre + \" entro al baño.\" << endl;\n",
        "    cout << \"\\t- CantidadHombres: \" + to_string(cantidadHombres) + \"\\n\\t- CantidadMujeres: \" + to_string(cantidadMujeres)<< endl;\n",
        "    cout << \"-----------------------------------------\" << endl;\n",
        "    imprimirPantalla.unlock();\n",
        "    accesoRegionCritica.unlock();\n",
        "\n",
        "    sleep_for(seconds(2));\n",
        "\n",
        "    accesoRegionCritica.lock();\n",
        "    cantidadHombres--;\n",
        "    if (cantidadHombres == 0)\n",
        "    {\n",
        "        situacionBaño = VACIO;\n",
        "    }\n",
        "    accesoRegionCritica.unlock();\n",
        "    turno.release();\n",
        "    imprimirPantalla.lock();\n",
        "    cout << nombre + \" sale del baño.\" << endl;\n",
        "    cout << \"-----------------------------------------\" << endl;\n",
        "    imprimirPantalla.unlock();\n",
        "}\n",
        "\n",
        "void agregarHilo(vector<thread> &grupo, int cantidadPersonas, void (*funcionGenero)(int))\n",
        "{\n",
        "    for (int i = 0; i < cantidadPersonas; i++)\n",
        "    {\n",
        "        grupo.push_back(thread(funcionGenero, i));\n",
        "    }\n",
        "}\n",
        "\n",
        "void unirHilos(vector<thread> &grupo)\n",
        "{\n",
        "    for (auto &hilo : grupo)\n",
        "    {\n",
        "        if (hilo.joinable())\n",
        "        {\n",
        "            hilo.join();\n",
        "        }\n",
        "    }\n",
        "}\n",
        "\n",
        "int main(int argc, char *argv[])\n",
        "{\n",
        "    if (argc < 2)\n",
        "    {\n",
        "        cout << \"Uso: \" << argv[0] << \" <cantidad de hombres y mujeres>\" << endl;\n",
        "        return EXIT_FAILURE;\n",
        "    }\n",
        "\n",
        "    int cantidadPersonas = stoi(argv[1]);\n",
        "\n",
        "    if (cantidadPersonas < 0)\n",
        "    {\n",
        "        cout << \"Ingrese cantidad de hombres y mujeres mayor a 0 \" << endl;\n",
        "        return EXIT_FAILURE;\n",
        "    }\n",
        "    cout << \"-----------------------------------------\" << endl;\n",
        "    cout << \"Comienzo de jornada laboral.\" << endl;\n",
        "    cout << \"-----------------------------------------\" << endl;\n",
        "\n",
        "    vector<thread> grupoHombres;\n",
        "\n",
        "    vector<thread> grupoMujeres;\n",
        "\n",
        "    agregarHilo(grupoHombres, cantidadPersonas, hombres);\n",
        "\n",
        "    agregarHilo(grupoMujeres, cantidadPersonas, mujeres);\n",
        "\n",
        "    unirHilos(grupoHombres);\n",
        "\n",
        "    unirHilos(grupoMujeres);\n",
        "\n",
        "    cout << \"Fin de la jornada laboral.\" << endl;\n",
        "    cout << \"-----------------------------------------\\n\" << endl;\n",
        "\n",
        "    return EXIT_SUCCESS;\n",
        "}\n"
      ],
      "metadata": {
        "id": "mbfUq_MnE8iT",
        "colab": {
          "base_uri": "https://localhost:8080/"
        },
        "outputId": "8fb52796-62ad-4634-b7d6-004c01ace099"
      },
      "execution_count": null,
      "outputs": [
        {
          "output_type": "stream",
          "name": "stdout",
          "text": [
            "Writing accesoBaño.cpp\n"
          ]
        }
      ]
    },
    {
      "cell_type": "markdown",
      "source": [
        "### Compilación"
      ],
      "metadata": {
        "id": "YuywbDUB8eXv"
      }
    },
    {
      "cell_type": "markdown",
      "source": [
        "Se le debe indicar al compilador que utilice el estándar C++20, que es una versión específica del lenguaje. En particular, el tipo `counting_semaphore` es una adición reciente introducida, por lo que se debe compilar con el estándar C++20 o posterior."
      ],
      "metadata": {
        "id": "P9W4mu1B83HG"
      }
    },
    {
      "cell_type": "code",
      "source": [
        "!g++ -std=c++20 -o accesoBaño ./accesoBaño.cpp"
      ],
      "metadata": {
        "id": "fVfLaUHgF0MR"
      },
      "execution_count": null,
      "outputs": []
    },
    {
      "cell_type": "markdown",
      "source": [
        "### Ejecución\n"
      ],
      "metadata": {
        "id": "vCmrxIq08hka"
      }
    },
    {
      "cell_type": "code",
      "source": [
        "!./accesoBaño 6"
      ],
      "metadata": {
        "colab": {
          "base_uri": "https://localhost:8080/"
        },
        "id": "VLPTrM74F04R",
        "outputId": "2f41ec5f-07bf-42f4-c915-c5cd32345522"
      },
      "execution_count": null,
      "outputs": [
        {
          "output_type": "stream",
          "name": "stdout",
          "text": [
            "-----------------------------------------\n",
            "Comienzo de jornada laboral.\n",
            "-----------------------------------------\n",
            "Hombre 3 entro al baño.\n",
            "\t- CantidadHombres: 1\n",
            "\t- CantidadMujeres: 0\n",
            "-----------------------------------------\n",
            "Hombre 2 entro al baño.\n",
            "\t- CantidadHombres: 2\n",
            "\t- CantidadMujeres: 0\n",
            "-----------------------------------------\n",
            "Hombre 1 entro al baño.\n",
            "\t- CantidadHombres: 3\n",
            "\t- CantidadMujeres: 0\n",
            "-----------------------------------------\n",
            "Hombre 3 sale del baño.\n",
            "-----------------------------------------\n",
            "Hombre 2 sale del baño.\n",
            "-----------------------------------------\n",
            "Hombre 4 entro al baño.\n",
            "\t- CantidadHombres: 2\n",
            "\t- CantidadMujeres: 0\n",
            "-----------------------------------------\n",
            "Hombre 5 entro al baño.\n",
            "\t- CantidadHombres: 3\n",
            "\t- CantidadMujeres: 0\n",
            "-----------------------------------------\n",
            "Hombre 1 sale del baño.\n",
            "-----------------------------------------\n",
            "Mujer 0 esperando\n",
            "-----------------------------------------\n",
            "Mujer 2 esperando\n",
            "-----------------------------------------\n",
            "Hombre 0 entro al baño.\n",
            "\t- CantidadHombres: 3\n",
            "\t- CantidadMujeres: 0\n",
            "-----------------------------------------\n",
            "Mujer 0 esperando\n",
            "-----------------------------------------\n",
            "Mujer 2 esperando\n",
            "-----------------------------------------\n",
            "Hombre 4 sale del baño.\n",
            "-----------------------------------------\n",
            "Mujer 5 esperando\n",
            "-----------------------------------------\n",
            "Mujer 1 esperando\n",
            "-----------------------------------------\n",
            "Mujer 4 esperando\n",
            "-----------------------------------------\n",
            "Mujer 3 esperando\n",
            "-----------------------------------------\n",
            "Hombre 5 sale del baño.\n",
            "-----------------------------------------\n",
            "Hombre 0 sale del baño.\n",
            "-----------------------------------------\n",
            "Mujer 0 entro al baño.\n",
            "\t- CantidadHombres: 0\n",
            "\t- CantidadMujeres: 1\n",
            "-----------------------------------------\n",
            "Mujer 2 entro al baño.\n",
            "\t- CantidadHombres: 0\n",
            "\t- CantidadMujeres: 2\n",
            "-----------------------------------------\n",
            "Mujer 5 entro al baño.\n",
            "\t- CantidadHombres: 0\n",
            "\t- CantidadMujeres: 3\n",
            "-----------------------------------------\n",
            "Mujer 2 sale del baño.\n",
            "-----------------------------------------\n",
            "Mujer 0 sale del baño.\n",
            "-----------------------------------------\n",
            "Mujer 3 entro al baño.\n",
            "\t- CantidadHombres: 0\n",
            "\t- CantidadMujeres: 2\n",
            "-----------------------------------------\n",
            "Mujer 1 entro al baño.\n",
            "\t- CantidadHombres: 0\n",
            "\t- CantidadMujeres: 3\n",
            "-----------------------------------------\n",
            "Mujer 5 sale del baño.\n",
            "-----------------------------------------\n",
            "Mujer 4 entro al baño.\n",
            "\t- CantidadHombres: 0\n",
            "\t- CantidadMujeres: 3\n",
            "-----------------------------------------\n",
            "Mujer 3 sale del baño.\n",
            "-----------------------------------------\n",
            "Mujer 1 sale del baño.\n",
            "-----------------------------------------\n",
            "Mujer 4 sale del baño.\n",
            "-----------------------------------------\n",
            "Fin de la jornada laboral.\n",
            "-----------------------------------------\n",
            "\n"
          ]
        }
      ]
    }
  ]
}