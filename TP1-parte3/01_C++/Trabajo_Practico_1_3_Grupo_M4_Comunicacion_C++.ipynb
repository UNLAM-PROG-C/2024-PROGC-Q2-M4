{
  "cells": [
    {
      "cell_type": "markdown",
      "metadata": {
        "id": "gNXkUyPdISaj"
      },
      "source": [
        "# Trabajo Practico Nº1 - Parte 3: Comunicación y Sincronismo"
      ]
    },
    {
      "cell_type": "markdown",
      "metadata": {
        "id": "8SGZ7SGAIUv5"
      },
      "source": [
        "## Información General"
      ]
    },
    {
      "cell_type": "markdown",
      "metadata": {
        "id": "eSBAMNzwIXll"
      },
      "source": [
        "* **Universidad Nacional de la Matanza**\n",
        "* Materia: Programación Concurrente\n",
        "* Cuatrimestre: Segundo Cuatrimestre, Año 2024\n",
        "* Profesores:\n",
        "    * ADAGIO, MATIAS EZEQUIEL\n",
        "    * CARNUCCIO, ESTEBAN\n",
        "    * HIRSCHFELDT, DARIO\n",
        "    * PALOMO, MAXIMO FACUNDO\n",
        "    * VOLKER MARIANO LEONARDO\n",
        "* Grupo: M4\n",
        "\n",
        "\n",
        "* Integrantes:\n",
        "    * ANTONIOLI, IVÁN OSCAR\n",
        "    * DI NICCO, LUIS DEMETRIO\n",
        "    * SANDOVAL VASQUEZ, JUAN LEANDRO\n",
        "    * TIGANI MARTIN SEBASTIAN\n",
        "    * VILLCA, LUIS ALBERTO"
      ]
    },
    {
      "cell_type": "markdown",
      "metadata": {
        "id": "kQdDshITIeKZ"
      },
      "source": [
        "## Consigna"
      ]
    },
    {
      "cell_type": "markdown",
      "metadata": {
        "id": "alSVVLesIfSR"
      },
      "source": [
        "**Fecha de entrega**: 25/09/2024\n",
        "\n",
        "**Forma de entrega**:\n",
        "Se debe generar un informe que contenga los siguientes puntos:\n",
        "\n",
        "*   **Carátula**: Con los integrantes del grupo.\n",
        "*   **Link a un repositorio de GitHub**: En donde se encuentre el archivo del cuaderno de Colab generado para este Trabajo Práctico. Este archivo debe ser con la extension ipynb. También se debe subir a GitHub el código fuente.\n",
        "*   **Conclusiones**: En esta sección se debe describir las dificultadas que encontraron al realizar el trabajo práctico.\n",
        "\n",
        "Entregar el informe por plataforma de MIeL. Este debe ser en formato .pdf, con nombre TP1_Parte3_NumeroDelGrupo.pdf.\n",
        "\n",
        "**Enunciado**: Una empresa desea optimizar el espacio utilizado en el edificio donde opera, para esto planean tener un solo baño con capacidad para **tres (3) empleados**, pero dado que actualmente su plantilla de empleados se compone de hombres y mujeres, la empresa quiere garantizar que en el baño no se encuentren hombres y mujeres al mismo tiempo.\n",
        "\n",
        "Desarrolle un programa que implemente el funcionamiento de dicho baño utilizando algún método de comunicación y/o sincronización."
      ]
    },
    {
      "cell_type": "markdown",
      "metadata": {
        "id": "_jKXbYyNJl5T"
      },
      "source": [
        "## Criterios a tener en cuenta"
      ]
    },
    {
      "cell_type": "markdown",
      "metadata": {
        "id": "5byAUV3xJmyh"
      },
      "source": [
        "* [Coding Standard](https://google.github.io/styleguide/)\n",
        "* Ajustes específicos (Ej. llaves en la misma columna)\n",
        "* Espacios en lugar de tabulaciones (2 espacios)\n",
        "* Métodos/funciones con menos de 15 líneas.\n",
        "* Patrones de diseño\n",
        "* No debe haber números mágicos, uso de constantes descriptivas."
      ]
    },
    {
      "cell_type": "markdown",
      "metadata": {
        "id": "JfYk4gguERCT"
      },
      "source": [
        "## Resolución"
      ]
    },
    {
      "cell_type": "markdown",
      "metadata": {
        "id": "b_biBWDV8WiC"
      },
      "source": [
        "### Código"
      ]
    },
    {
      "cell_type": "code",
      "source": [
        "%%writefile accesoBaño.cpp\n",
        "#include <iostream>\n",
        "#include <mutex>\n",
        "#include <semaphore>\n",
        "#include <sstream>\n",
        "#include <string>\n",
        "#include <thread>\n",
        "#include <unistd.h>\n",
        "#include <vector>\n",
        "\n",
        "using namespace std;\n",
        "using namespace chrono;\n",
        "using namespace this_thread;\n",
        "\n",
        "const int TIEMPO_ESPERA = 1;\n",
        "const int TIEMPO_BAÑO = 2;\n",
        "const int CAPACIDAD_BAÑO = 3;\n",
        "\n",
        "mutex imprimir_pantalla;\n",
        "mutex acceso_region_critica;\n",
        "mutex acceso_region_critica_1;\n",
        "mutex esperando;\n",
        "counting_semaphore<CAPACIDAD_BAÑO> turno(CAPACIDAD_BAÑO);\n",
        "counting_semaphore<CAPACIDAD_BAÑO> salida(CAPACIDAD_BAÑO);\n",
        "\n",
        "enum Baño\n",
        "{\n",
        "  VACIO = 0,\n",
        "  HAY_HOMBRES = 1,\n",
        "  HAY_MUJERES = 2\n",
        "};\n",
        "\n",
        "int cantidad_mujeres = 0;\n",
        "int cantidad_hombres = 0;\n",
        "int situacion_baño = VACIO;\n",
        "bool espera_mujeres = false;\n",
        "bool espera_hombres = false;\n",
        "\n",
        "void mujeres(int numero)\n",
        "{\n",
        "  string nombre = \"Mujer \" + to_string(numero);\n",
        "\n",
        "  while (true)\n",
        "  {\n",
        "    turno.acquire();\n",
        "    if (situacion_baño == HAY_HOMBRES && acceso_region_critica_1.try_lock())\n",
        "    {\n",
        "      espera_mujeres = true;\n",
        "      while (situacion_baño == HAY_HOMBRES)\n",
        "      {\n",
        "        imprimir_pantalla.lock();\n",
        "        cout << nombre + \" esperando\" << endl;\n",
        "        cout << \"-----------------------------------------\" << endl;\n",
        "        imprimir_pantalla.unlock();\n",
        "        sleep_for(seconds(TIEMPO_ESPERA));\n",
        "      }\n",
        "      acceso_region_critica_1.unlock();\n",
        "    }\n",
        "    if (situacion_baño != HAY_HOMBRES && !espera_hombres)\n",
        "    {\n",
        "      acceso_region_critica.lock();\n",
        "      cantidad_mujeres++;\n",
        "      if (cantidad_mujeres >= 1)\n",
        "      {\n",
        "        situacion_baño = HAY_MUJERES;\n",
        "        espera_mujeres = false;\n",
        "      }\n",
        "      imprimir_pantalla.lock();\n",
        "      salida.acquire();\n",
        "      cout << nombre + \" entro al baño.\" << endl;\n",
        "      cout << \"\\t- CantidadHombres: \" + to_string(cantidad_hombres) + \"\\n\\t- CantidadMujeres: \" + to_string(cantidad_mujeres) << endl;\n",
        "      cout << \"-----------------------------------------\" << endl;\n",
        "      imprimir_pantalla.unlock();\n",
        "      acceso_region_critica.unlock();\n",
        "\n",
        "      sleep_for(seconds(TIEMPO_BAÑO));\n",
        "\n",
        "      imprimir_pantalla.lock();\n",
        "      cout << nombre + \" sale del baño.\" << endl;\n",
        "      cout << \"-----------------------------------------\" << endl;\n",
        "      salida.release();\n",
        "      imprimir_pantalla.unlock();\n",
        "\n",
        "      acceso_region_critica.lock();\n",
        "      cantidad_mujeres--;\n",
        "      if (cantidad_mujeres == 0)\n",
        "      {\n",
        "        situacion_baño = VACIO;\n",
        "      }\n",
        "      acceso_region_critica.unlock();\n",
        "      turno.release();\n",
        "\n",
        "      break;\n",
        "    }\n",
        "    turno.release();\n",
        "    sleep_for(seconds(TIEMPO_ESPERA));\n",
        "  }\n",
        "}\n",
        "\n",
        "void hombres(int numero)\n",
        "{\n",
        "  string nombre = \"Hombre \" + to_string(numero);\n",
        "\n",
        "  while (true)\n",
        "  {\n",
        "    turno.acquire();\n",
        "    if (situacion_baño == HAY_MUJERES && acceso_region_critica_1.try_lock())\n",
        "    {\n",
        "      espera_hombres = true;\n",
        "      while (situacion_baño == HAY_MUJERES)\n",
        "      {\n",
        "        imprimir_pantalla.lock();\n",
        "        cout << nombre + \" esperando\" << endl;\n",
        "        cout << \"-----------------------------------------\" << endl;\n",
        "        imprimir_pantalla.unlock();\n",
        "        sleep_for(seconds(TIEMPO_ESPERA));\n",
        "      }\n",
        "      acceso_region_critica_1.unlock();\n",
        "    }\n",
        "    if (situacion_baño != HAY_MUJERES && !espera_mujeres)\n",
        "    {\n",
        "      acceso_region_critica.lock();\n",
        "      cantidad_hombres++;\n",
        "      if (cantidad_hombres >= 1)\n",
        "      {\n",
        "        situacion_baño = HAY_HOMBRES;\n",
        "        espera_hombres = false;\n",
        "      }\n",
        "      imprimir_pantalla.lock();\n",
        "      salida.acquire();\n",
        "      cout << nombre + \" entro al baño.\" << endl;\n",
        "      cout << \"\\t- CantidadHombres: \" + to_string(cantidad_hombres) + \"\\n\\t- CantidadMujeres: \" + to_string(cantidad_mujeres) << endl;\n",
        "      cout << \"-----------------------------------------\" << endl;\n",
        "      imprimir_pantalla.unlock();\n",
        "      acceso_region_critica.unlock();\n",
        "\n",
        "      sleep_for(seconds(TIEMPO_BAÑO));\n",
        "\n",
        "      imprimir_pantalla.lock();\n",
        "      cout << nombre + \" sale del baño.\" << endl;\n",
        "      cout << \"-----------------------------------------\" << endl;\n",
        "      salida.release();\n",
        "      imprimir_pantalla.unlock();\n",
        "\n",
        "      acceso_region_critica.lock();\n",
        "      cantidad_hombres--;\n",
        "      if (cantidad_hombres == 0)\n",
        "      {\n",
        "        situacion_baño = VACIO;\n",
        "      }\n",
        "      acceso_region_critica.unlock();\n",
        "      turno.release();\n",
        "\n",
        "      break;\n",
        "    }\n",
        "    turno.release();\n",
        "    sleep_for(seconds(TIEMPO_ESPERA));\n",
        "  }\n",
        "}\n",
        "\n",
        "void agregar_hilo(vector<thread> &grupo, int cantidad_personas, void (*funcion_genero)(int))\n",
        "{\n",
        "  for (int i = 0; i < cantidad_personas; i++)\n",
        "  {\n",
        "    grupo.push_back(thread(funcion_genero, i));\n",
        "  }\n",
        "}\n",
        "\n",
        "void unir_hilos(vector<thread> &grupo)\n",
        "{\n",
        "  for (auto &hilo : grupo)\n",
        "  {\n",
        "    if (hilo.joinable())\n",
        "    {\n",
        "      hilo.join();\n",
        "    }\n",
        "  }\n",
        "}\n",
        "\n",
        "int main(int argc, char *argv[])\n",
        "{\n",
        "  if (argc < 2)\n",
        "  {\n",
        "    cout << \"Uso: \" << argv[0] << \" <cantidad de hombres y mujeres>\" << endl;\n",
        "    return EXIT_FAILURE;\n",
        "  }\n",
        "\n",
        "  int cantidad_personas = stoi(argv[1]);\n",
        "\n",
        "  if (cantidad_personas < 0)\n",
        "  {\n",
        "    cout << \"Ingrese cantidad de hombres y mujeres mayor a 0 \" << endl;\n",
        "    return EXIT_FAILURE;\n",
        "  }\n",
        "  cout << \"-----------------------------------------\" << endl;\n",
        "  cout << \"Comienzo de jornada laboral.\" << endl;\n",
        "  cout << \"-----------------------------------------\" << endl;\n",
        "\n",
        "  vector<thread> grupo_hombres;\n",
        "  vector<thread> grupo_mujeres;\n",
        "\n",
        "  agregar_hilo(grupo_mujeres, cantidad_personas, mujeres);\n",
        "  agregar_hilo(grupo_hombres, cantidad_personas, hombres);\n",
        "\n",
        "  unir_hilos(grupo_hombres);\n",
        "  unir_hilos(grupo_mujeres);\n",
        "\n",
        "  cout << \"Fin de la jornada laboral.\" << endl;\n",
        "  cout << \"-----------------------------------------\\n\"\n",
        "       << endl;\n",
        "\n",
        "  return EXIT_SUCCESS;\n",
        "}"
      ],
      "metadata": {
        "colab": {
          "base_uri": "https://localhost:8080/"
        },
        "id": "63QQDjmaoLpz",
        "outputId": "191b9b2d-cec0-4c66-eedb-99110824a984"
      },
      "execution_count": null,
      "outputs": [
        {
          "output_type": "stream",
          "name": "stdout",
          "text": [
            "Overwriting accesoBaño.cpp\n"
          ]
        }
      ]
    },
    {
      "cell_type": "markdown",
      "metadata": {
        "id": "YuywbDUB8eXv"
      },
      "source": [
        "### Compilación"
      ]
    },
    {
      "cell_type": "markdown",
      "metadata": {
        "id": "P9W4mu1B83HG"
      },
      "source": [
        "Se le debe indicar al compilador que utilice el estándar C++20, que es una versión específica del lenguaje. En particular, el tipo `counting_semaphore` es una adición reciente introducida, por lo que se debe compilar con el estándar C++20 o posterior."
      ]
    },
    {
      "cell_type": "code",
      "execution_count": null,
      "metadata": {
        "id": "fVfLaUHgF0MR"
      },
      "outputs": [],
      "source": [
        "!g++ -std=c++20 -o accesoBaño ./accesoBaño.cpp"
      ]
    },
    {
      "cell_type": "markdown",
      "metadata": {
        "id": "vCmrxIq08hka"
      },
      "source": [
        "### Ejecución\n"
      ]
    },
    {
      "cell_type": "code",
      "execution_count": null,
      "metadata": {
        "colab": {
          "base_uri": "https://localhost:8080/"
        },
        "id": "VLPTrM74F04R",
        "outputId": "34dbd46f-a4d1-49c2-ad2a-48561b6e6333"
      },
      "outputs": [
        {
          "output_type": "stream",
          "name": "stdout",
          "text": [
            "-----------------------------------------\n",
            "Comienzo de jornada laboral.\n",
            "-----------------------------------------\n",
            "Mujer 2 entro al baño.\n",
            "\t- CantidadHombres: 0\n",
            "\t- CantidadMujeres: 1\n",
            "-----------------------------------------\n",
            "Mujer 1 entro al baño.\n",
            "\t- CantidadHombres: 0\n",
            "\t- CantidadMujeres: 2\n",
            "-----------------------------------------\n",
            "Mujer 0 entro al baño.\n",
            "\t- CantidadHombres: 0\n",
            "\t- CantidadMujeres: 3\n",
            "-----------------------------------------\n",
            "Mujer 2 sale del baño.\n",
            "-----------------------------------------\n",
            "Hombre 2 esperando\n",
            "-----------------------------------------\n",
            "Mujer 1 sale del baño.\n",
            "-----------------------------------------\n",
            "Mujer 0 sale del baño.\n",
            "-----------------------------------------\n",
            "Hombre 4 entro al baño.\n",
            "\t- CantidadHombres: 1\n",
            "\t- CantidadMujeres: 0\n",
            "-----------------------------------------\n",
            "Hombre 3 entro al baño.\n",
            "\t- CantidadHombres: 2\n",
            "\t- CantidadMujeres: 0\n",
            "-----------------------------------------\n",
            "Hombre 2 entro al baño.\n",
            "\t- CantidadHombres: 3\n",
            "\t- CantidadMujeres: 0\n",
            "-----------------------------------------\n",
            "Hombre 4 sale del baño.\n",
            "-----------------------------------------\n",
            "Hombre 3 sale del baño.\n",
            "-----------------------------------------\n",
            "Hombre 1 entro al baño.\n",
            "\t- CantidadHombres: 3\n",
            "\t- CantidadMujeres: 0\n",
            "-----------------------------------------\n",
            "Hombre 0 entro al baño.\n",
            "\t- CantidadHombres: 3\n",
            "\t- CantidadMujeres: 0\n",
            "-----------------------------------------\n",
            "Hombre 2 sale del baño.\n",
            "-----------------------------------------\n",
            "Mujer 3 esperando\n",
            "-----------------------------------------\n",
            "Hombre 1 sale del baño.\n",
            "-----------------------------------------\n",
            "Hombre 0 sale del baño.\n",
            "-----------------------------------------\n",
            "Mujer 3 entro al baño.\n",
            "\t- CantidadHombres: 0\n",
            "\t- CantidadMujeres: 1\n",
            "-----------------------------------------\n",
            "Mujer 4 entro al baño.\n",
            "\t- CantidadHombres: 0\n",
            "\t- CantidadMujeres: 2\n",
            "-----------------------------------------\n",
            "Mujer 3 sale del baño.\n",
            "-----------------------------------------\n",
            "Mujer 4 sale del baño.\n",
            "-----------------------------------------\n",
            "Fin de la jornada laboral.\n",
            "-----------------------------------------\n",
            "\n"
          ]
        }
      ],
      "source": [
        "!./accesoBaño 5"
      ]
    }
  ],
  "metadata": {
    "colab": {
      "provenance": []
    },
    "kernelspec": {
      "display_name": "Python 3",
      "name": "python3"
    },
    "language_info": {
      "name": "python"
    }
  },
  "nbformat": 4,
  "nbformat_minor": 0
}