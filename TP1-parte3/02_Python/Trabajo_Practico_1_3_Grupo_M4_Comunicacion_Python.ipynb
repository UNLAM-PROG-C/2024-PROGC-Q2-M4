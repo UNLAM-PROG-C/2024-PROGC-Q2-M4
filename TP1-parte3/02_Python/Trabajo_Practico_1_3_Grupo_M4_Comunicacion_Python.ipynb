{
  "cells": [
    {
      "cell_type": "markdown",
      "metadata": {
        "id": "-exfvS4KoJxA"
      },
      "source": [
        "# Trabajo Practico Nº1 - Parte 3: Comunicación y Sincronismo"
      ]
    },
    {
      "cell_type": "markdown",
      "metadata": {
        "id": "uIDNejkSoNRm"
      },
      "source": [
        "## Información General"
      ]
    },
    {
      "cell_type": "markdown",
      "metadata": {
        "id": "TNABm9KmoSj-"
      },
      "source": [
        "* **Universidad Nacional de la Matanza**\n",
        "* Materia: Programación Concurrente\n",
        "* Cuatrimestre: Segundo Cuatrimestre, Año 2024\n",
        "* Profesores:\n",
        "    * ADAGIO, MATIAS EZEQUIEL\n",
        "    * CARNUCCIO, ESTEBAN\n",
        "    * HIRSCHFELDT, DARIO\n",
        "    * PALOMO, MAXIMO FACUNDO\n",
        "    * VOLKER MARIANO LEONARDO\n",
        "* Grupo: M4\n",
        "\n",
        "\n",
        "* Integrantes:\n",
        "    * ANTONIOLI, IVÁN OSCAR\n",
        "    * DI NICCO, LUIS DEMETRIO\n",
        "    * SANDOVAL VASQUEZ, JUAN LEANDRO\n",
        "    * TIGANI MARTIN SEBASTIAN\n",
        "    * VILLCA, LUIS ALBERTO"
      ]
    },
    {
      "cell_type": "markdown",
      "metadata": {
        "id": "32Pi_Kg3oXBm"
      },
      "source": [
        "## Consigna"
      ]
    },
    {
      "cell_type": "markdown",
      "metadata": {
        "id": "alSVVLesIfSR"
      },
      "source": [
        "**Fecha de entrega**: 25/09/2024\n",
        "\n",
        "**Forma de entrega**:\n",
        "Se debe generar un informe que contenga los siguientes puntos:\n",
        "\n",
        "*   **Carátula**: Con los integrantes del grupo.\n",
        "*   **Link a un repositorio de GitHub**: En donde se encuentre el archivo del cuaderno de Colab generado para este Trabajo Práctico. Este archivo debe ser con la extension ipynb. También se debe subir a GitHub el código fuente.\n",
        "*   **Conclusiones**: En esta sección se debe describir las dificultadas que encontraron al realizar el trabajo práctico.\n",
        "\n",
        "Entregar el informe por plataforma de MIeL. Este debe ser en formato .pdf, con nombre TP1_Parte3_NumeroDelGrupo.pdf.\n",
        "\n",
        "**Enunciado**: En una reserva natural sudafricana existe un profundo cañón, los babuinos del lugar utilizan una cuerda atada en ambos extremos para cruzar de un lado al otro. La cuerda es lo suficientemente fuerte como para soportar a **cinco (5) babuinos** colgados al mismo tiempo, de superar esa cantidad la cuerda se romperá. Por razones desconocidas si dos babuinos que van en direcciones opuestas se encuentran en medio del cruce, estos se ponen a pelear hasta que alguno cae al vacío.\n",
        "\n",
        "Desarrolle un programa utilizando algún método de comunicación y/o sincronización que represente el cruce de los babuinos garantizando que ninguno muera."
      ]
    },
    {
      "cell_type": "markdown",
      "metadata": {
        "id": "GQfqQ00a-DEZ"
      },
      "source": [
        "## Criterios a tener en cuenta"
      ]
    },
    {
      "cell_type": "markdown",
      "metadata": {
        "id": "zcbrd-pu-BFT"
      },
      "source": [
        "* [Coding Standard](https://google.github.io/styleguide/)\n",
        "* Ajustes específicos (Ej. llaves en la misma columna)\n",
        "* Espacios en lugar de tabulaciones (2 espacios)\n",
        "* Métodos/funciones con menos de 15 líneas.\n",
        "* Patrones de diseño\n",
        "* No debe haber números mágicos, uso de constantes descriptivas."
      ]
    },
    {
      "cell_type": "markdown",
      "metadata": {
        "id": "JfYk4gguERCT"
      },
      "source": [
        "## Resolución sin intercalar direcciones"
      ]
    },
    {
      "cell_type": "markdown",
      "metadata": {
        "id": "aWNTgaPZW007"
      },
      "source": [
        "**Suposiciones**:\n",
        "\n",
        "Debido a que en la cosnigna no se aclara como definir la cantidad de babuinos que parten de cada lado, ni si solo realizan un viaje o pueden hacer multiples viajes decidimos resolver este ejercicio parte de las siguientes suposiciones.\n",
        "\n",
        "*   **Cantidad Babuinos De cada Lado**: El programa recibe por parametro la cantidad total de babuinos. En caso de ser una cantidad par, la mitad estarán del lado izquierdo y la otra mitad del lado derecho. En caso de ser una cantidad impar, un lado tendra un babuino mas que el otro.\n",
        "*   **Cantidad de veces que cruzan**: Vamos a considerar que todos los babuinos solo cruzan una sola vez por la cuerda.\n",
        "*  **Sentido de Cruce:** Los babuinos empiezan cruzando desde la izquierda a la derecha y cuando terminan los de ese lado comienzan a cruzar de derecha a izquierda.\n",
        "\n",
        "\n",
        "Para resolver este ejercicio no consideramos necesario utilizar un mecanismo de comunicación."
      ]
    },
    {
      "cell_type": "markdown",
      "metadata": {
        "id": "WPa_Kosn-HKv"
      },
      "source": [
        "### Código"
      ]
    },
    {
      "cell_type": "code",
      "execution_count": null,
      "metadata": {
        "colab": {
          "base_uri": "https://localhost:8080/"
        },
        "id": "AUx2Ubf9r4Z9",
        "outputId": "17b9227a-a6af-4a43-d99c-3941e98d23c8"
      },
      "outputs": [
        {
          "output_type": "stream",
          "name": "stdout",
          "text": [
            "Writing reserva_natural.py\n"
          ]
        }
      ],
      "source": [
        "%%writefile reserva_natural.py\n",
        "import sys\n",
        "import threading\n",
        "import time\n",
        "\n",
        "CANTIDAD_MAXIMA_SOGA = 5\n",
        "IZQUIERDA = 1\n",
        "DERECHA = 2\n",
        "TIEMPO_ESPERA = 1\n",
        "TIEMPO_PARA_CRUZAR = 1\n",
        "\n",
        "mutex_region_critica = threading.Lock()\n",
        "mutex_cuerda = threading.Lock()\n",
        "\n",
        "cantidad_babuinos = 0\n",
        "lado_cuerda = 1\n",
        "\n",
        "def cambiar_de_lado(direccion):\n",
        "  global lado_cuerda, cantidad_babuinos,cantidad_babuinos_izquierda\n",
        "\n",
        "  while True:\n",
        "    if direccion == lado_cuerda:\n",
        "      with mutex_region_critica:\n",
        "        if cantidad_babuinos < CANTIDAD_MAXIMA_SOGA:\n",
        "          cantidad_babuinos += 1\n",
        "          print(f\"Viajando hacia la {'derecha' if IZQUIERDA+direccion%DERECHA == 1 else 'izquierda'}, \"\n",
        "                f\"cantidad de babuinos en cuerda: {cantidad_babuinos}\")\n",
        "          sys.stdout.flush()\n",
        "        else:\n",
        "          continue\n",
        "\n",
        "      time.sleep(TIEMPO_PARA_CRUZAR)\n",
        "\n",
        "      with mutex_region_critica:\n",
        "        cantidad_babuinos -= 1\n",
        "        print(f\"babuino llegó a la {'derecha' if IZQUIERDA+direccion%DERECHA == 1 else 'izquierda'}, \"\n",
        "        f\"cantidad de babuinos en cuerda: {cantidad_babuinos}\")\n",
        "        sys.stdout.flush()\n",
        "\n",
        "        if cantidad_babuinos == 0:\n",
        "          print(\"No hay más babuinos en la cuerda, se libera.\")\n",
        "          sys.stdout.flush()\n",
        "        if (direccion == 1):\n",
        "          cantidad_babuinos_izquierda-=1\n",
        "        return\n",
        "    else:\n",
        "      if mutex_cuerda.acquire(blocking=False):\n",
        "        while( cantidad_babuinos_izquierda > 0):\n",
        "          time.sleep(TIEMPO_ESPERA)\n",
        "        print(\"-------------------------------------------------------------------------------------\")\n",
        "        print(f\"Cambiando la dirección de la cuerda hacia la derecha\")\n",
        "        print(\"-------------------------------------------------------------------------------------\")\n",
        "        sys.stdout.flush()\n",
        "        lado_cuerda=direccion\n",
        "        mutex_cuerda.release()\n",
        "\n",
        "\n",
        "def main():\n",
        "  global cantidad_babuinos_izquierda\n",
        "\n",
        "  if len(sys.argv) < 2:\n",
        "    sys.exit(\"Se debe indicar la cantidad de monos\")\n",
        "    sys.stdout.flush()\n",
        "    return\n",
        "  cantidad_babuinos_a_generar = int(sys.argv[1])\n",
        "  if cantidad_babuinos_a_generar < 0:\n",
        "    sys.exit(\"La cantidad de babuinos no puede ser negativa\")\n",
        "    sys.stdout.flush()\n",
        "\n",
        "  threads = []\n",
        "  cantidad_babuinos_izquierda=cantidad_babuinos_a_generar/2\n",
        "\n",
        "  lado = IZQUIERDA\n",
        "  for i in range(cantidad_babuinos_a_generar):\n",
        "    babuino = threading.Thread(target=cambiar_de_lado, args=(lado,))\n",
        "    threads.append(babuino)\n",
        "    lado = IZQUIERDA + lado % DERECHA\n",
        "\n",
        "  for thread in threads:\n",
        "    thread.start()\n",
        "\n",
        "  for thread in threads:\n",
        "    thread.join()\n",
        "\n",
        "\n",
        "if __name__ == \"__main__\":\n",
        "  main()"
      ]
    },
    {
      "cell_type": "markdown",
      "metadata": {
        "id": "cBd-So0mVvKa"
      },
      "source": [
        "### Ejecución"
      ]
    },
    {
      "cell_type": "markdown",
      "metadata": {
        "id": "sOOtqwGiXOSt"
      },
      "source": [
        "Ejecucion de ejemplo, 20 babuinos"
      ]
    },
    {
      "cell_type": "code",
      "execution_count": null,
      "metadata": {
        "colab": {
          "base_uri": "https://localhost:8080/"
        },
        "id": "OYVbUEMOXL-L",
        "outputId": "1331fd36-38e9-4745-b0e2-bafdb31a42ab"
      },
      "outputs": [
        {
          "output_type": "stream",
          "name": "stdout",
          "text": [
            "Viajando hacia la izquierda, cantidad de babuinos en cuerda: 1\n",
            "Viajando hacia la izquierda, cantidad de babuinos en cuerda: 2\n",
            "Viajando hacia la izquierda, cantidad de babuinos en cuerda: 3\n",
            "Viajando hacia la izquierda, cantidad de babuinos en cuerda: 4\n",
            "Viajando hacia la izquierda, cantidad de babuinos en cuerda: 5\n",
            "babuino llegó a la izquierda, cantidad de babuinos en cuerda: 4\n",
            "Viajando hacia la izquierda, cantidad de babuinos en cuerda: 5\n",
            "babuino llegó a la izquierda, cantidad de babuinos en cuerda: 4\n",
            "Viajando hacia la izquierda, cantidad de babuinos en cuerda: 5\n",
            "babuino llegó a la izquierda, cantidad de babuinos en cuerda: 4\n",
            "Viajando hacia la izquierda, cantidad de babuinos en cuerda: 5\n",
            "babuino llegó a la izquierda, cantidad de babuinos en cuerda: 4\n",
            "babuino llegó a la izquierda, cantidad de babuinos en cuerda: 3\n",
            "Viajando hacia la izquierda, cantidad de babuinos en cuerda: 4\n",
            "Viajando hacia la izquierda, cantidad de babuinos en cuerda: 5\n",
            "babuino llegó a la izquierda, cantidad de babuinos en cuerda: 4\n",
            "babuino llegó a la izquierda, cantidad de babuinos en cuerda: 3\n",
            "babuino llegó a la izquierda, cantidad de babuinos en cuerda: 2\n",
            "babuino llegó a la izquierda, cantidad de babuinos en cuerda: 1\n",
            "babuino llegó a la izquierda, cantidad de babuinos en cuerda: 0\n",
            "No hay más babuinos en la cuerda, se libera.\n",
            "-------------------------------------------------------------------------------------\n",
            "Cambiando la dirección de la cuerda hacia la derecha\n",
            "-------------------------------------------------------------------------------------\n",
            "Viajando hacia la derecha, cantidad de babuinos en cuerda: 1\n",
            "Viajando hacia la derecha, cantidad de babuinos en cuerda: 2\n",
            "Viajando hacia la derecha, cantidad de babuinos en cuerda: 3\n",
            "Viajando hacia la derecha, cantidad de babuinos en cuerda: 4\n",
            "-------------------------------------------------------------------------------------\n",
            "Viajando hacia la derecha, cantidad de babuinos en cuerda: 5\n",
            "Cambiando la dirección de la cuerda hacia la derecha\n",
            "-------------------------------------------------------------------------------------\n",
            "babuino llegó a la derecha, cantidad de babuinos en cuerda: 4\n",
            "Viajando hacia la derecha, cantidad de babuinos en cuerda: 5\n",
            "babuino llegó a la derecha, cantidad de babuinos en cuerda: 4\n",
            "babuino llegó a la derecha, cantidad de babuinos en cuerda: 3\n",
            "babuino llegó a la derecha, cantidad de babuinos en cuerda: 2\n",
            "Viajando hacia la derecha, cantidad de babuinos en cuerda: 3\n",
            "Viajando hacia la derecha, cantidad de babuinos en cuerda: 4\n",
            "babuino llegó a la derecha, cantidad de babuinos en cuerda: 3\n",
            "Viajando hacia la derecha, cantidad de babuinos en cuerda: 4\n",
            "Viajando hacia la derecha, cantidad de babuinos en cuerda: 5\n",
            "babuino llegó a la derecha, cantidad de babuinos en cuerda: 4\n",
            "babuino llegó a la derecha, cantidad de babuinos en cuerda: 3\n",
            "babuino llegó a la derecha, cantidad de babuinos en cuerda: 2\n",
            "babuino llegó a la derecha, cantidad de babuinos en cuerda: 1\n",
            "babuino llegó a la derecha, cantidad de babuinos en cuerda: 0\n",
            "No hay más babuinos en la cuerda, se libera.\n"
          ]
        }
      ],
      "source": [
        "!python reserva_natural.py 20"
      ]
    },
    {
      "cell_type": "markdown",
      "metadata": {
        "id": "iLByWlVyXT4L"
      },
      "source": [
        "Ejecucion en segundo plano para visualizar los hilos"
      ]
    },
    {
      "cell_type": "code",
      "execution_count": null,
      "metadata": {
        "id": "yKJl7Y3nVvKb"
      },
      "outputs": [],
      "source": [
        "!chmod 700 ./reserva_natural.py\n",
        "!nohup python reserva_natural.py 4 1> salida_python.txt 2>/dev/null &"
      ]
    },
    {
      "cell_type": "markdown",
      "metadata": {
        "id": "OLbIyKRwbojS"
      },
      "source": [
        "PID del proceso principal"
      ]
    },
    {
      "cell_type": "markdown",
      "metadata": {
        "id": "XyubOAM4JG1-"
      },
      "source": [
        "***Nota***: Seleccionar el PID que sigue el siguiente formato:\n",
        "\n",
        "root       XXXX  0.0  0.0   6616  2260 ?        S    23:38   0:00 grep reserva_natural\n",
        "\n",
        "Reemplazar el PID de la celda de abajo por el valor que esta en la posicion \"XXXX\""
      ]
    },
    {
      "cell_type": "code",
      "execution_count": null,
      "metadata": {
        "colab": {
          "base_uri": "https://localhost:8080/"
        },
        "id": "3jS-0eoHIKTo",
        "outputId": "8d78d56a-4d36-42d2-e6fa-9e96f0ee0b92"
      },
      "outputs": [
        {
          "output_type": "stream",
          "name": "stdout",
          "text": [
            "root        1433 94.0  0.0 312572  9832 ?        Sl   16:51   0:11 python3 reserva_natural.py 4\n",
            "root        1488  0.0  0.0   6616  2264 ?        S    16:51   0:00 grep reserva_natural\n"
          ]
        }
      ],
      "source": [
        "!ps -aux | grep reserva_natural"
      ]
    },
    {
      "cell_type": "markdown",
      "metadata": {
        "id": "dmgDat9ebuoR"
      },
      "source": [
        "Hilos generados"
      ]
    },
    {
      "cell_type": "markdown",
      "metadata": {
        "id": "e3j4o0azJJjO"
      },
      "source": [
        "***Nota***: Completar el PID con el valor obtenido en la celda de arriba"
      ]
    },
    {
      "cell_type": "code",
      "execution_count": null,
      "metadata": {
        "colab": {
          "base_uri": "https://localhost:8080/"
        },
        "id": "bqGHnSwzI3fo",
        "outputId": "4bef91d0-7104-4b85-8ad6-be3860874ee2"
      },
      "outputs": [
        {
          "output_type": "stream",
          "name": "stdout",
          "text": [
            "    PID     LWP TTY          TIME CMD\n",
            "   1433    1433 ?        00:00:00 python3\n",
            "   1433    1435 ?        00:00:00 python3\n",
            "   1433    1436 ?        00:00:00 python3\n",
            "   1433    1437 ?        00:00:00 python3\n",
            "   1433    1438 ?        00:00:18 python3\n"
          ]
        }
      ],
      "source": [
        "!ps -L -p 1433"
      ]
    },
    {
      "cell_type": "markdown",
      "metadata": {
        "id": "IdLZERX6XtjL"
      },
      "source": [
        "Salida"
      ]
    },
    {
      "cell_type": "code",
      "execution_count": null,
      "metadata": {
        "id": "LHTG7D6cVvKb",
        "colab": {
          "base_uri": "https://localhost:8080/"
        },
        "outputId": "bc5fa901-6b22-4fc2-d0be-6bff6391eb1a"
      },
      "outputs": [
        {
          "output_type": "stream",
          "name": "stdout",
          "text": [
            "Viajando hacia la izquierda, cantidad de babuinos en cuerda: 1\n",
            "Viajando hacia la izquierda, cantidad de babuinos en cuerda: 2\n",
            "babuino llegó a la izquierda, cantidad de babuinos en cuerda: 1\n",
            "babuino llegó a la izquierda, cantidad de babuinos en cuerda: 0\n",
            "No hay más babuinos en la cuerda, se libera.\n",
            "-------------------------------------------------------------------------------------\n",
            "Cambiando la dirección de la cuerda hacia la derecha\n",
            "-------------------------------------------------------------------------------------\n",
            "Viajando hacia la derecha, cantidad de babuinos en cuerda: 1\n",
            "Viajando hacia la derecha, cantidad de babuinos en cuerda: 2\n",
            "babuino llegó a la derecha, cantidad de babuinos en cuerda: 1\n",
            "babuino llegó a la derecha, cantidad de babuinos en cuerda: 0\n",
            "No hay más babuinos en la cuerda, se libera.\n"
          ]
        }
      ],
      "source": [
        "!cat salida_python.txt"
      ]
    },
    {
      "cell_type": "markdown",
      "metadata": {
        "id": "mVFCrlgIr6QM"
      },
      "source": [
        "\n",
        "\n",
        "## Version intercalando las direcciones\n"
      ]
    },
    {
      "cell_type": "markdown",
      "metadata": {
        "id": "GIY5d3V_Wpvy"
      },
      "source": [
        "**Suposiciones**:\n",
        "\n",
        "Debido a que en la cosnigna no se aclara como definir la cantidad de babuinos que parten de cada lado, ni si solo realizan un viaje o pueden hacer multiples viajes decidimos resolver este ejercicio parte de las siguientes suposiciones.\n",
        "\n",
        "*   **Cantidad Babuinos De cada Lado**: El programa recibe por parametro la cantidad total de babuinos. En esta version la cantidad de babuinos de cada lado es aleatoria.\n",
        "*   **Cantidad de veces que cruzan**: Vamos a considerar que todos los babuinos solo cruzan una sola vez por la cuerda.\n",
        "\n",
        "\n",
        "En este caso si tuvimos que usar un mecanismo de comunicacion, utilizamos notify() y notify_all() para permitir la comunicación entre los babuinos que están esperando en cada lado de la cuerda. Esto les indica cuándo pueden intentar cruzar, basándose en la disponibilidad de la cuerda."
      ]
    },
    {
      "cell_type": "markdown",
      "metadata": {
        "id": "dmN1A5fiXGJT"
      },
      "source": [
        "### Codigo"
      ]
    },
    {
      "cell_type": "code",
      "execution_count": null,
      "metadata": {
        "colab": {
          "base_uri": "https://localhost:8080/"
        },
        "id": "YgwEXCBlNPyD",
        "outputId": "e379115e-bbf2-4b3e-c614-24c11039fd9f"
      },
      "outputs": [
        {
          "name": "stdout",
          "output_type": "stream",
          "text": [
            "Overwriting reserva_natural_2.py\n"
          ]
        }
      ],
      "source": [
        "%%writefile reserva_natural_2.py\n",
        "import threading\n",
        "import time\n",
        "import random\n",
        "import argparse\n",
        "\n",
        "MINIMO_GRUPO_BABUINOS = 5\n",
        "PROPORCION_GRUPO_BABUINOS = 4\n",
        "MAX_BABUINOS_CUERDA = 5\n",
        "TIEMPO_EN_CUERDA = 1\n",
        "\n",
        "babuinos_este = 0\n",
        "babuinos_oeste = 0\n",
        "babuinos_esperando_este = 0\n",
        "babuinos_esperando_oeste = 0\n",
        "prioridad_direccion = 'ninguna'\n",
        "babuinos_cruzaron_direccion_actual = 0\n",
        "babuinos_total = 0\n",
        "babuinos_contador = 0\n",
        "babuinos_faltan_este = 0\n",
        "babuinos_faltan_oeste = 0\n",
        "\n",
        "semaforo_cuerda = threading.Semaphore(MAX_BABUINOS_CUERDA)\n",
        "\n",
        "condicion_este = threading.Condition()\n",
        "condicion_oeste = threading.Condition()\n",
        "\n",
        "def entra_babuino_este():\n",
        "  global babuinos_esperando_este, babuinos_este, babuinos_faltan_este\n",
        "  global babuinos_cruzaron_direccion_actual, prioridad_direccion\n",
        "  with condicion_este:\n",
        "    babuinos_esperando_este += 1\n",
        "    while no_puede_cruzar_este():\n",
        "      condicion_este.wait()\n",
        "    babuinos_esperando_este -= 1\n",
        "    semaforo_cuerda.acquire()\n",
        "    babuinos_este += 1\n",
        "    prioridad_direccion = 'este'\n",
        "    babuinos_cruzaron_direccion_actual += 1\n",
        "    babuinos_faltan_este -= 1\n",
        "    print(f\"Babuino cruzando hacia el este. Total en cuerda: {MAX_BABUINOS_CUERDA - semaforo_cuerda._value}\")\n",
        "    print(f\"Babuinos que faltan cruzar al este: {babuinos_faltan_este}\")\n",
        "\n",
        "def entra_babuino_oeste():\n",
        "  global babuinos_esperando_oeste, babuinos_oeste, babuinos_faltan_oeste\n",
        "  global babuinos_cruzaron_direccion_actual, prioridad_direccion\n",
        "  with condicion_oeste:\n",
        "    babuinos_esperando_oeste += 1\n",
        "    while no_puede_cruzar_oeste():\n",
        "      condicion_oeste.wait()\n",
        "    babuinos_esperando_oeste -= 1\n",
        "    semaforo_cuerda.acquire()\n",
        "    babuinos_oeste += 1\n",
        "    prioridad_direccion = 'oeste'\n",
        "    babuinos_cruzaron_direccion_actual += 1\n",
        "    babuinos_faltan_oeste -= 1\n",
        "    print(f\"Babuino cruzando hacia el oeste. Total en cuerda: {MAX_BABUINOS_CUERDA - semaforo_cuerda._value}\")\n",
        "    print(f\"Babuinos que faltan cruzar al oeste: {babuinos_faltan_oeste}\")\n",
        "\n",
        "def no_puede_cruzar_este():\n",
        "  if babuinos_faltan_oeste == 0:\n",
        "    return (babuinos_oeste > 0 or semaforo_cuerda._value == 0 or\n",
        "            (prioridad_direccion == 'oeste' and babuinos_oeste > 0))\n",
        "  else:\n",
        "    return (babuinos_oeste > 0 or semaforo_cuerda._value == 0 or\n",
        "            (prioridad_direccion == 'oeste' and babuinos_oeste > 0) or\n",
        "            (babuinos_cruzaron_direccion_actual >= max_babuinos_grupo and babuinos_esperando_oeste > 0))\n",
        "\n",
        "def no_puede_cruzar_oeste():\n",
        "  if babuinos_faltan_este == 0:\n",
        "    return (babuinos_este > 0 or semaforo_cuerda._value == 0 or\n",
        "            (prioridad_direccion == 'este' and babuinos_este > 0))\n",
        "  else:\n",
        "    return (babuinos_este > 0 or semaforo_cuerda._value == 0 or\n",
        "            (prioridad_direccion == 'este' and babuinos_este > 0) or\n",
        "            (babuinos_cruzaron_direccion_actual >= max_babuinos_grupo and babuinos_esperando_este > 0))\n",
        "\n",
        "def sale_babuino_este():\n",
        "  global babuinos_este, babuinos_contador\n",
        "  with condicion_este:\n",
        "    babuinos_este -= 1\n",
        "    babuinos_contador += 1\n",
        "    semaforo_cuerda.release()\n",
        "    print(f\"Babuino terminó de cruzar hacia el este. Total en cuerda: {MAX_BABUINOS_CUERDA - semaforo_cuerda._value}\")\n",
        "\n",
        "    if (MAX_BABUINOS_CUERDA - semaforo_cuerda._value) == 0 and babuinos_contador < babuinos_total:\n",
        "      if babuinos_faltan_oeste > 0:\n",
        "        print(\"------------------------------------------------------------------------------------->>>\")\n",
        "        print(f\"Cambiando la dirección de la cuerda hacia el oeste\")\n",
        "        print(f\"Babuinos que faltan cruzar al este: {babuinos_faltan_este}, al oeste: {babuinos_faltan_oeste}\")\n",
        "        print(\"<<<-------------------------------------------------------------------------------------\")\n",
        "        reiniciar_direccion()\n",
        "        with condicion_oeste:\n",
        "          condicion_oeste.notify_all()\n",
        "      else:\n",
        "        reiniciar_direccion()\n",
        "        with condicion_este:\n",
        "          condicion_este.notify_all()\n",
        "\n",
        "def sale_babuino_oeste():\n",
        "  global babuinos_oeste, babuinos_contador\n",
        "  with condicion_oeste:\n",
        "    babuinos_oeste -= 1\n",
        "    babuinos_contador += 1\n",
        "    semaforo_cuerda.release()\n",
        "    print(f\"Babuino terminó de cruzar hacia el oeste. Total en cuerda: {MAX_BABUINOS_CUERDA - semaforo_cuerda._value}\")\n",
        "\n",
        "    if (MAX_BABUINOS_CUERDA - semaforo_cuerda._value) == 0 and babuinos_contador < babuinos_total:\n",
        "      if babuinos_faltan_este > 0:\n",
        "        print(\"<<<-------------------------------------------------------------------------------------\")\n",
        "        print(f\"Cambiando la dirección de la cuerda hacia el este\")\n",
        "        print(f\"Babuinos que faltan cruzar al este: {babuinos_faltan_este}, al oeste: {babuinos_faltan_oeste}\")\n",
        "        print(\"------------------------------------------------------------------------------------->>>\")\n",
        "        reiniciar_direccion()\n",
        "        with condicion_este:\n",
        "          condicion_este.notify_all()\n",
        "      else:\n",
        "        reiniciar_direccion()\n",
        "        with condicion_oeste:\n",
        "          condicion_oeste.notify_all()\n",
        "\n",
        "def reiniciar_direccion():\n",
        "  global babuinos_cruzaron_direccion_actual\n",
        "  babuinos_cruzaron_direccion_actual = 0\n",
        "\n",
        "def babuino(direccion):\n",
        "  if direccion == 'este':\n",
        "    entra_babuino_este()\n",
        "  else:\n",
        "    entra_babuino_oeste()\n",
        "  time.sleep(TIEMPO_EN_CUERDA)\n",
        "  if direccion == 'este':\n",
        "    sale_babuino_este()\n",
        "  else:\n",
        "    sale_babuino_oeste()\n",
        "\n",
        "def iniciar_babuinos(cantidad_babuinos):\n",
        "  global babuinos_total, max_babuinos_grupo, babuinos_faltan_este, babuinos_faltan_oeste\n",
        "  babuinos_total = cantidad_babuinos\n",
        "  max_babuinos_grupo = max(cantidad_babuinos // PROPORCION_GRUPO_BABUINOS, MINIMO_GRUPO_BABUINOS)\n",
        "\n",
        "  babuinos = []\n",
        "  direcciones_asignadas = []\n",
        "\n",
        "  for _ in range(cantidad_babuinos):\n",
        "    direccion = random.choice(['este', 'oeste'])\n",
        "    direcciones_asignadas.append(direccion)\n",
        "    if direccion == 'este':\n",
        "      babuinos_faltan_este += 1\n",
        "    else:\n",
        "      babuinos_faltan_oeste += 1\n",
        "\n",
        "  print(f\"Babuinos que faltan cruzar al este: {babuinos_faltan_este}, al oeste: {babuinos_faltan_oeste}\")\n",
        "  print(\"----------------------------------------------------------------------------------------\")\n",
        "\n",
        "  for direccion in direcciones_asignadas:\n",
        "    t = threading.Thread(target=babuino, args=(direccion,))\n",
        "    babuinos.append(t)\n",
        "    t.start()\n",
        "\n",
        "  for t in babuinos:\n",
        "    t.join()\n",
        "\n",
        "def main():\n",
        "  parser = argparse.ArgumentParser(description=\"Simulación de babuinos cruzando la cuerda.\")\n",
        "  parser.add_argument(\"cantidad_babuinos\", type=int, help=\"Cantidad total de babuinos\")\n",
        "  args = parser.parse_args()\n",
        "\n",
        "  print(\"----------------------------------------------------------------------------------------\")\n",
        "  print(\"Comienza la simulación\")\n",
        "  print(\"----------------------------------------------------------------------------------------\")\n",
        "  iniciar_babuinos(args.cantidad_babuinos)\n",
        "  print(\"----------------------------------------------------------------------------------------\")\n",
        "  print(\"Finaliza la simulación\")\n",
        "  print(\"----------------------------------------------------------------------------------------\")\n",
        "\n",
        "if __name__ == \"__main__\":\n",
        "  main()"
      ]
    },
    {
      "cell_type": "markdown",
      "metadata": {
        "id": "iWGvd_ziX2oB"
      },
      "source": [
        "### Ejecución"
      ]
    },
    {
      "cell_type": "markdown",
      "metadata": {
        "id": "YOvlsSM9X2oB"
      },
      "source": [
        "Ejecucion de ejemplo, 20 babuinos"
      ]
    },
    {
      "cell_type": "code",
      "execution_count": null,
      "metadata": {
        "colab": {
          "background_save": true,
          "base_uri": "https://localhost:8080/"
        },
        "id": "wWzVAirpX2oB",
        "outputId": "a073a21b-26f9-41a3-cf97-336a493b629c"
      },
      "outputs": [
        {
          "name": "stdout",
          "output_type": "stream",
          "text": [
            "----------------------------------------------------------------------------------------\n",
            "Comienza la simulacion\n",
            "----------------------------------------------------------------------------------------\n",
            "Babuino cruzando hacia el este. Total en cuerda: 1\n",
            "Babuino cruzando hacia el este. Total en cuerda: 2\n",
            "Babuino cruzando hacia el este. Total en cuerda: 3\n",
            "Babuino cruzando hacia el este. Total en cuerda: 4\n",
            "Babuino cruzando hacia el este. Total en cuerda: 5\n",
            "Babuino terminó de cruzar hacia el este. Total en cuerda: 4\n",
            "Babuino terminó de cruzar hacia el este. Total en cuerda: 3\n",
            "Babuino terminó de cruzar hacia el este. Total en cuerda: 2\n",
            "Babuino terminó de cruzar hacia el este. Total en cuerda: 1\n",
            "Babuino terminó de cruzar hacia el este. Total en cuerda: 0\n",
            "------------------------------------------------------------------------------------->>>\n",
            "Cambiando la dirección de la cuerda hacia el oeste\n",
            "<<<-------------------------------------------------------------------------------------\n",
            "Babuino cruzando hacia el oeste. Total en cuerda: 1\n",
            "Babuino cruzando hacia el oeste. Total en cuerda: 2\n",
            "Babuino cruzando hacia el oeste. Total en cuerda: 3\n",
            "Babuino cruzando hacia el oeste. Total en cuerda: 4\n",
            "Babuino cruzando hacia el oeste. Total en cuerda: 5\n",
            "Babuino terminó de cruzar hacia el oeste. Total en cuerda: 4\n",
            "Babuino terminó de cruzar hacia el oeste. Total en cuerda: 3\n",
            "Babuino terminó de cruzar hacia el oeste. Total en cuerda: 2\n",
            "Babuino terminó de cruzar hacia el oeste. Total en cuerda: 1\n",
            "Babuino terminó de cruzar hacia el oeste. Total en cuerda: 0\n",
            "<<<-------------------------------------------------------------------------------------\n",
            "Cambiando la dirección de la cuerda hacia el este\n",
            "------------------------------------------------------------------------------------->>>\n",
            "Babuino cruzando hacia el este. Total en cuerda: 1\n",
            "Babuino cruzando hacia el este. Total en cuerda: 2\n",
            "Babuino cruzando hacia el este. Total en cuerda: 3\n",
            "Babuino cruzando hacia el este. Total en cuerda: 4\n",
            "Babuino cruzando hacia el este. Total en cuerda: 5\n",
            "Babuino terminó de cruzar hacia el este. Total en cuerda: 4\n",
            "Babuino terminó de cruzar hacia el este. Total en cuerda: 3\n",
            "Babuino terminó de cruzar hacia el este. Total en cuerda: 2\n",
            "Babuino terminó de cruzar hacia el este. Total en cuerda: 1\n",
            "Babuino terminó de cruzar hacia el este. Total en cuerda: 0\n",
            "------------------------------------------------------------------------------------->>>\n",
            "Cambiando la dirección de la cuerda hacia el oeste\n",
            "<<<-------------------------------------------------------------------------------------\n"
          ]
        }
      ],
      "source": [
        "!python reserva_natural_2.py 20"
      ]
    },
    {
      "cell_type": "markdown",
      "metadata": {
        "id": "3C6h4T1dX2oB"
      },
      "source": [
        "Ejecucion en segundo plano para visualizar los hilos"
      ]
    },
    {
      "cell_type": "code",
      "execution_count": null,
      "metadata": {
        "id": "_1dk2YCmX2oC"
      },
      "outputs": [],
      "source": [
        "!chmod 700 ./reserva_natural_2.py\n",
        "!nohup python reserva_natural_2.py 4 1> salida_python_2.txt 2>/dev/null &"
      ]
    },
    {
      "cell_type": "markdown",
      "metadata": {
        "id": "qr9pLEAYX2oC"
      },
      "source": [
        "PID del proceso principal"
      ]
    },
    {
      "cell_type": "markdown",
      "metadata": {
        "id": "Jst1FpiUX2oC"
      },
      "source": [
        "***Nota***: Seleccionar el PID que sigue el siguiente formato:\n",
        "\n",
        "root       XXXX  0.0  0.0   6616  2260 ?        S    23:38   0:00 grep reserva_natural_2\n",
        "\n",
        "Reemplazar el PID de la celda de abajo por el valor que esta en la posicion \"XXXX\""
      ]
    },
    {
      "cell_type": "code",
      "execution_count": null,
      "metadata": {
        "colab": {
          "base_uri": "https://localhost:8080/"
        },
        "id": "_TBXmPB6X2oC",
        "outputId": "9976b22d-2343-46ab-e887-5dd6c580a6f0"
      },
      "outputs": [
        {
          "name": "stdout",
          "output_type": "stream",
          "text": [
            "root        4760  0.1  0.0 314348 11512 ?        Sl   15:55   0:00 python3 reserva_natural_2.py 4\n",
            "root        4894  0.0  0.0   6616  2364 ?        S    15:56   0:00 grep reserva_natural_2\n"
          ]
        }
      ],
      "source": [
        "!ps -aux | grep reserva_natural_2"
      ]
    },
    {
      "cell_type": "markdown",
      "metadata": {
        "id": "qHZ1xn5lX2oD"
      },
      "source": [
        "Hilos generados"
      ]
    },
    {
      "cell_type": "markdown",
      "metadata": {
        "id": "1DyarQC0X2oD"
      },
      "source": [
        "***Nota***: Completar el PID con el valor obtenido en la celda de arriba"
      ]
    },
    {
      "cell_type": "code",
      "execution_count": null,
      "metadata": {
        "colab": {
          "base_uri": "https://localhost:8080/"
        },
        "id": "jibg_0zQX2oD",
        "outputId": "94551caa-44eb-4b4a-aca4-a9abd227b885"
      },
      "outputs": [
        {
          "name": "stdout",
          "output_type": "stream",
          "text": [
            "    PID     LWP TTY          TIME CMD\n",
            "   4760    4760 ?        00:00:00 python3\n",
            "   4760    4762 ?        00:00:00 python3\n",
            "   4760    4763 ?        00:00:00 python3\n",
            "   4760    4764 ?        00:00:00 python3\n",
            "   4760    4765 ?        00:00:00 python3\n"
          ]
        }
      ],
      "source": [
        "!ps -L -p 4760"
      ]
    },
    {
      "cell_type": "markdown",
      "metadata": {
        "id": "PAB2nQ8UX2oD"
      },
      "source": [
        "Salida"
      ]
    },
    {
      "cell_type": "code",
      "execution_count": null,
      "metadata": {
        "colab": {
          "base_uri": "https://localhost:8080/"
        },
        "id": "dMJMTuM-X2oD",
        "outputId": "70329535-d1d6-49c2-f9c6-1e0db9020cac"
      },
      "outputs": [
        {
          "name": "stdout",
          "output_type": "stream",
          "text": [
            "----------------------------------------------------------------------------------------\n",
            "Comienza la simulación\n",
            "----------------------------------------------------------------------------------------\n",
            "Babuinos que faltan cruzar al este: 4, al oeste: 0\n",
            "----------------------------------------------------------------------------------------\n",
            "Babuino cruzando hacia el este. Total en cuerda: 1\n",
            "Babuinos que faltan cruzar al este: 3\n",
            "Babuino cruzando hacia el este. Total en cuerda: 2\n",
            "Babuinos que faltan cruzar al este: 2\n",
            "Babuino cruzando hacia el este. Total en cuerda: 3\n",
            "Babuinos que faltan cruzar al este: 1\n",
            "Babuino cruzando hacia el este. Total en cuerda: 4\n",
            "Babuinos que faltan cruzar al este: 0\n",
            "Babuino terminó de cruzar hacia el este. Total en cuerda: 3\n",
            "Babuino terminó de cruzar hacia el este. Total en cuerda: 2\n",
            "Babuino terminó de cruzar hacia el este. Total en cuerda: 1\n",
            "Babuino terminó de cruzar hacia el este. Total en cuerda: 0\n",
            "----------------------------------------------------------------------------------------\n",
            "Finaliza la simulación\n",
            "----------------------------------------------------------------------------------------\n"
          ]
        }
      ],
      "source": [
        "!cat salida_python_2.txt"
      ]
    },
    {
      "cell_type": "markdown",
      "source": [
        "Version sin intercar las direcciones"
      ],
      "metadata": {
        "id": "qO52M5w5Ezjb"
      }
    }
  ],
  "metadata": {
    "colab": {
      "provenance": []
    },
    "kernelspec": {
      "display_name": "Python 3",
      "name": "python3"
    },
    "language_info": {
      "name": "python"
    }
  },
  "nbformat": 4,
  "nbformat_minor": 0
}