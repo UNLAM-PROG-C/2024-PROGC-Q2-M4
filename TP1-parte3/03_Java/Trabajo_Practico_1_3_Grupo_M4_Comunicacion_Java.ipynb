{
  "nbformat": 4,
  "nbformat_minor": 0,
  "metadata": {
    "colab": {
      "provenance": []
    },
    "kernelspec": {
      "name": "python3",
      "display_name": "Python 3"
    },
    "language_info": {
      "name": "python"
    }
  },
  "cells": [
    {
      "cell_type": "markdown",
      "source": [
        "# Trabajo Practico Nº1 - Parte 3: Comunicación y Sincronismo"
      ],
      "metadata": {
        "id": "-exfvS4KoJxA"
      }
    },
    {
      "cell_type": "markdown",
      "source": [
        "## Información General"
      ],
      "metadata": {
        "id": "uIDNejkSoNRm"
      }
    },
    {
      "cell_type": "markdown",
      "source": [
        "* **Universidad Nacional de la Matanza**\n",
        "* Materia: Programación Concurrente\n",
        "* Cuatrimestre: Segundo Cuatrimestre, Año 2024\n",
        "* Profesores:\n",
        "    * ADAGIO, MATIAS EZEQUIEL\n",
        "    * CARNUCCIO, ESTEBAN\n",
        "    * HIRSCHFELDT, DARIO\n",
        "    * PALOMO, MAXIMO FACUNDO\n",
        "    * VOLKER MARIANO LEONARDO\n",
        "* Grupo: M4\n",
        "\n",
        "\n",
        "* Integrantes:\n",
        "    * ANTONIOLI, IVÁN OSCAR\n",
        "    * DI NICCO, LUIS DEMETRIO\n",
        "    * SANDOVAL VASQUEZ, JUAN LEANDRO\n",
        "    * TIGANI MARTIN SEBASTIAN\n",
        "    * VILLCA, LUIS ALBERTO"
      ],
      "metadata": {
        "id": "TNABm9KmoSj-"
      }
    },
    {
      "cell_type": "markdown",
      "source": [
        "## Consigna"
      ],
      "metadata": {
        "id": "32Pi_Kg3oXBm"
      }
    },
    {
      "cell_type": "markdown",
      "source": [
        "**Fecha de entrega**: 25/09/2024\n",
        "\n",
        "**Forma de entrega**:\n",
        "Se debe generar un informe que contenga los siguientes puntos:\n",
        "\n",
        "*   **Carátula**: Con los integrantes del grupo.\n",
        "*   **Link a un repositorio de GitHub**: En donde se encuentre el archivo del cuaderno de Colab generado para este Trabajo Práctico. Este archivo debe ser con la extension ipynb. También se debe subir a GitHub el código fuente.\n",
        "*   **Conclusiones**: En esta sección se debe describir las dificultadas que encontraron al realizar el trabajo práctico.\n",
        "\n",
        "Entregar el informe por plataforma de MIeL. Este debe ser en formato .pdf, con nombre TP1_Parte3_NumeroDelGrupo.pdf.\n",
        "\n",
        "**Enunciado**: En un supermercado existen **dos (2) repositores** que reponen los productos de una góndola con capacidad máxima de **diez (10) productos**, dichos repositores trabajan con alternancia estricta, es decir que una vez repone uno, luego el otro y así sucesivamente. También existen **N clientes**: que van tomando los productos de las góndolas (1 a 2 productos de manera aleatoria). Cuando la góndola se vacía, el repositor repone la totalidad de productos. Cabe destacar que mientras se están reponiendo los productos, los clientes no pueden tomarlos, así como también si un cliente no obtuvo la cantidad de productos que necesitaba, esperará hasta que la góndola se complete.\n",
        "\n",
        "Desarrolle un programa utilizando algún método de comunicación y/o sincronización que represente el funcionamiento anteriormente planteado para un número N de clientes donde N será pasado como parámetro al programa.  "
      ],
      "metadata": {
        "id": "alSVVLesIfSR"
      }
    },
    {
      "cell_type": "markdown",
      "source": [
        "## Criterios a tener en cuenta"
      ],
      "metadata": {
        "id": "PVSWSuRi95Qa"
      }
    },
    {
      "cell_type": "markdown",
      "source": [
        "* [Coding Standard](https://google.github.io/styleguide/)\n",
        "* Ajustes específicos (Ej. llaves en la misma columna)\n",
        "* Espacios en lugar de tabulaciones (2 espacios)\n",
        "* Métodos/funciones con menos de 15 líneas.\n",
        "* Patrones de diseño\n",
        "* No debe haber números mágicos, uso de constantes descriptivas."
      ],
      "metadata": {
        "id": "GI5Z2ZM397pA"
      }
    },
    {
      "cell_type": "markdown",
      "source": [
        "## Resolución"
      ],
      "metadata": {
        "id": "JfYk4gguERCT"
      }
    },
    {
      "cell_type": "markdown",
      "source": [
        "### Código"
      ],
      "metadata": {
        "id": "LU0OYZIZ9n0W"
      }
    },
    {
      "cell_type": "markdown",
      "source": [
        "Clase Cliente"
      ],
      "metadata": {
        "id": "gWGoqOZnRehB"
      }
    },
    {
      "cell_type": "code",
      "source": [
        "%%writefile Cliente.java\n",
        "public class Cliente extends Thread\n",
        "{\n",
        "\n",
        "  private int nombre;\n",
        "  private int cantidadAComprar;\n",
        "\n",
        "  public Cliente(int nombre, int cantidadAComprar)\n",
        "  {\n",
        "    this.nombre = nombre;\n",
        "    this.cantidadAComprar = cantidadAComprar;\n",
        "  }\n",
        "\n",
        "  public void run()\n",
        "  {\n",
        "    try\n",
        "    {\n",
        "      while (true)\n",
        "      {\n",
        "        Gondola.accesoProductos.acquire();\n",
        "        if (Gondola.productos >= cantidadAComprar)\n",
        "        {\n",
        "          Gondola.productos -= cantidadAComprar;\n",
        "          System.out.println(\"-----------------------------------------------------------\");\n",
        "          System.out.println(\"Cliente: \" + nombre + \" esta comprando \" + cantidadAComprar + \" productos.\");\n",
        "          System.out.println(\"Productos en gondola despues de la compra: \" + Gondola.productos);\n",
        "          System.out.println(\"-----------------------------------------------------------\");\n",
        "          Gondola.accesoProductos.release();\n",
        "          break;\n",
        "        }\n",
        "        else\n",
        "        {\n",
        "          Gondola.accesoProductos.release();\n",
        "          sleep(1000);\n",
        "        }\n",
        "      }\n",
        "\n",
        "    }\n",
        "    catch (InterruptedException e)\n",
        "    {\n",
        "      e.printStackTrace();\n",
        "    }\n",
        "  }\n",
        "}"
      ],
      "metadata": {
        "id": "uN5fZwWZEP31",
        "colab": {
          "base_uri": "https://localhost:8080/"
        },
        "outputId": "8d30a134-6b39-42a2-9563-4813674d9cb6"
      },
      "execution_count": 1,
      "outputs": [
        {
          "output_type": "stream",
          "name": "stdout",
          "text": [
            "Writing Cliente.java\n"
          ]
        }
      ]
    },
    {
      "cell_type": "markdown",
      "source": [
        "Clase constantes"
      ],
      "metadata": {
        "id": "L6tyRvKDRgrH"
      }
    },
    {
      "cell_type": "code",
      "source": [
        "%%writefile Constantes.java\n",
        "public class Constantes\n",
        "{\n",
        "  public static final int CANTIDAD_MAXIMA_PRODUCTOS = 10;\n",
        "  public static final int PRIMER_TURNO = 1;\n",
        "  public static final int SEGUNDO_TURNO = 2;\n",
        "  public static final int CANTIDAD_A_COMPRAR = 5;\n",
        "}"
      ],
      "metadata": {
        "colab": {
          "base_uri": "https://localhost:8080/"
        },
        "id": "wKf2aMMMRnBA",
        "outputId": "7c435cd7-345e-471b-8cc9-120505fb2608"
      },
      "execution_count": 2,
      "outputs": [
        {
          "output_type": "stream",
          "name": "stdout",
          "text": [
            "Writing Constantes.java\n"
          ]
        }
      ]
    },
    {
      "cell_type": "markdown",
      "source": [
        "Clase Repositor"
      ],
      "metadata": {
        "id": "0_ciXpITSFGm"
      }
    },
    {
      "cell_type": "code",
      "source": [
        "%%writefile Repositor.java\n",
        "public class Repositor extends Thread\n",
        "{\n",
        "\n",
        "  private static int turno = Constantes.PRIMER_TURNO;\n",
        "\n",
        "  private int numero;\n",
        "  private int cantidadAReponer;\n",
        "\n",
        "  public Repositor(int numero, int cantidadAReponer)\n",
        "  {\n",
        "    this.numero = numero;\n",
        "    this.cantidadAReponer = cantidadAReponer;\n",
        "  }\n",
        "\n",
        "  public void cambiarTurno()\n",
        "  {\n",
        "    turno = Repositor.turno == Constantes.PRIMER_TURNO ? Constantes.SEGUNDO_TURNO : Constantes.PRIMER_TURNO;\n",
        "  }\n",
        "\n",
        "  public void run()\n",
        "  {\n",
        "    try\n",
        "    {\n",
        "      while (Gondola.reposicionActiva)\n",
        "      {\n",
        "        Gondola.accesoProductos.acquire();\n",
        "        if (Gondola.productos < Constantes.CANTIDAD_MAXIMA_PRODUCTOS && turno == numero)\n",
        "        {\n",
        "          int cantidadReponer = Math.min(Constantes.CANTIDAD_MAXIMA_PRODUCTOS - Gondola.productos, cantidadAReponer);\n",
        "          Gondola.productos += cantidadReponer;\n",
        "          System.out.println(\"-----------------------------------------------------------\");\n",
        "          System.out.println(\"Repositor: \" + numero + \" esta reponiendo \" + cantidadReponer + \" productos.\");\n",
        "          System.out.println(\"Productos en gondola despues de la reposición: \" + Gondola.productos);\n",
        "          System.out.println(\"-----------------------------------------------------------\");\n",
        "          cambiarTurno();\n",
        "          Gondola.accesoProductos.release();\n",
        "        }\n",
        "        else\n",
        "        {\n",
        "          Gondola.accesoProductos.release();\n",
        "          sleep(1000);\n",
        "        }\n",
        "      }\n",
        "\n",
        "    }\n",
        "    catch (InterruptedException e)\n",
        "    {\n",
        "      e.printStackTrace();\n",
        "    }\n",
        "  }\n",
        "}"
      ],
      "metadata": {
        "colab": {
          "base_uri": "https://localhost:8080/"
        },
        "id": "MValvsfASFV3",
        "outputId": "f7e85394-d198-4490-eef8-8f82d1a19849"
      },
      "execution_count": 3,
      "outputs": [
        {
          "output_type": "stream",
          "name": "stdout",
          "text": [
            "Writing Repositor.java\n"
          ]
        }
      ]
    },
    {
      "cell_type": "markdown",
      "source": [
        "Clase Gondola"
      ],
      "metadata": {
        "id": "fHq_tw8-SCXX"
      }
    },
    {
      "cell_type": "code",
      "source": [
        "%%writefile Gondola.java\n",
        "import java.util.concurrent.Semaphore;\n",
        "\n",
        "public class Gondola\n",
        "{\n",
        "\n",
        "  public static int productos = 0;\n",
        "  static Semaphore accesoProductos = new Semaphore(1);\n",
        "  static boolean reposicionActiva = true;\n",
        "\n",
        "  public Cliente[] obtenerClientes(int cantidadClientes)\n",
        "  {\n",
        "    Cliente[] clientes = new Cliente[cantidadClientes];\n",
        "    for (int i = 0; i < cantidadClientes; i++)\n",
        "    {\n",
        "      clientes[i] = new Cliente(i, Constantes.CANTIDAD_A_COMPRAR);\n",
        "      clientes[i].start();\n",
        "    }\n",
        "    return clientes;\n",
        "  }\n",
        "}"
      ],
      "metadata": {
        "colab": {
          "base_uri": "https://localhost:8080/"
        },
        "id": "-UCXCzLdSCfQ",
        "outputId": "ccfa049f-4754-4a6d-b289-8f4dae0af478"
      },
      "execution_count": 8,
      "outputs": [
        {
          "output_type": "stream",
          "name": "stdout",
          "text": [
            "Overwriting Gondola.java\n"
          ]
        }
      ]
    },
    {
      "cell_type": "markdown",
      "source": [
        "Clase Main"
      ],
      "metadata": {
        "id": "G_8WvTv4VY3s"
      }
    },
    {
      "cell_type": "code",
      "source": [
        "%%writefile Main.java\n",
        "public class Main\n",
        "{\n",
        "  public static void main(String[] args) throws InterruptedException\n",
        "  {\n",
        "\n",
        "    if (args.length < 1 || Integer.parseInt(args[0]) < 0)\n",
        "    {\n",
        "      System.out.println(\"La cantidad de clientes debe ser positiva\");\n",
        "      return;\n",
        "    }\n",
        "\n",
        "    int numClientes = Integer.parseInt(args[0]);\n",
        "\n",
        "    Repositor repo1 = new Repositor(1, Constantes.CANTIDAD_MAXIMA_PRODUCTOS);\n",
        "    Repositor repo2 = new Repositor(2, Constantes.CANTIDAD_MAXIMA_PRODUCTOS);\n",
        "\n",
        "    repo1.start();\n",
        "    repo2.start();\n",
        "\n",
        "    Gondola gondola = new Gondola();\n",
        "\n",
        "    Cliente[] clientes = gondola.obtenerClientes(numClientes);\n",
        "\n",
        "    for (int i = 0; i < numClientes; i++)\n",
        "    {\n",
        "      clientes[i].join();\n",
        "    }\n",
        "\n",
        "    Gondola.reposicionActiva = false;\n",
        "\n",
        "    repo1.join();\n",
        "    repo2.join();\n",
        "  }\n",
        "}\n"
      ],
      "metadata": {
        "colab": {
          "base_uri": "https://localhost:8080/"
        },
        "id": "aKz0lauZTwqf",
        "outputId": "ee25d297-fdeb-4c35-ad90-dcaef879a50d"
      },
      "execution_count": 9,
      "outputs": [
        {
          "output_type": "stream",
          "name": "stdout",
          "text": [
            "Overwriting Main.java\n"
          ]
        }
      ]
    },
    {
      "cell_type": "markdown",
      "source": [
        "### Compilación"
      ],
      "metadata": {
        "id": "3qJSp-S39pw5"
      }
    },
    {
      "cell_type": "code",
      "source": [
        "!javac Main.java Gondola.java Repositor.java Constantes.java Cliente.java"
      ],
      "metadata": {
        "id": "3SRWmEuT9r50"
      },
      "execution_count": 10,
      "outputs": []
    },
    {
      "cell_type": "markdown",
      "source": [
        "### Ejecución"
      ],
      "metadata": {
        "id": "5UFBf_0t9sQL"
      }
    },
    {
      "cell_type": "code",
      "source": [
        "!java Main 10"
      ],
      "metadata": {
        "id": "hqcKe5LJ9uze",
        "colab": {
          "base_uri": "https://localhost:8080/"
        },
        "outputId": "9b065a16-8ae1-454d-b6da-787e4365f70a"
      },
      "execution_count": 11,
      "outputs": [
        {
          "output_type": "stream",
          "name": "stdout",
          "text": [
            "-----------------------------------------------------------\n",
            "Repositor: 1 esta reponiendo 10 productos.\n",
            "Productos en gondola despues de la reposición: 10\n",
            "-----------------------------------------------------------\n",
            "-----------------------------------------------------------\n",
            "Cliente: 1 esta comprando 5 productos.\n",
            "Productos en gondola despues de la compra: 5\n",
            "-----------------------------------------------------------\n",
            "-----------------------------------------------------------\n",
            "Cliente: 0 esta comprando 5 productos.\n",
            "Productos en gondola despues de la compra: 0\n",
            "-----------------------------------------------------------\n",
            "-----------------------------------------------------------\n",
            "Repositor: 2 esta reponiendo 10 productos.\n",
            "Productos en gondola despues de la reposición: 10\n",
            "-----------------------------------------------------------\n",
            "-----------------------------------------------------------\n",
            "Cliente: 3 esta comprando 5 productos.\n",
            "Productos en gondola despues de la compra: 5\n",
            "-----------------------------------------------------------\n",
            "-----------------------------------------------------------\n",
            "Cliente: 4 esta comprando 5 productos.\n",
            "Productos en gondola despues de la compra: 0\n",
            "-----------------------------------------------------------\n",
            "-----------------------------------------------------------\n",
            "Repositor: 1 esta reponiendo 10 productos.\n",
            "Productos en gondola despues de la reposición: 10\n",
            "-----------------------------------------------------------\n",
            "-----------------------------------------------------------\n",
            "Cliente: 9 esta comprando 5 productos.\n",
            "Productos en gondola despues de la compra: 5\n",
            "-----------------------------------------------------------\n",
            "-----------------------------------------------------------\n",
            "Cliente: 6 esta comprando 5 productos.\n",
            "Productos en gondola despues de la compra: 0\n",
            "-----------------------------------------------------------\n",
            "-----------------------------------------------------------\n",
            "Repositor: 2 esta reponiendo 10 productos.\n",
            "Productos en gondola despues de la reposición: 10\n",
            "-----------------------------------------------------------\n",
            "-----------------------------------------------------------\n",
            "Cliente: 8 esta comprando 5 productos.\n",
            "Productos en gondola despues de la compra: 5\n",
            "-----------------------------------------------------------\n",
            "-----------------------------------------------------------\n",
            "Cliente: 7 esta comprando 5 productos.\n",
            "Productos en gondola despues de la compra: 0\n",
            "-----------------------------------------------------------\n",
            "-----------------------------------------------------------\n",
            "Repositor: 1 esta reponiendo 10 productos.\n",
            "Productos en gondola despues de la reposición: 10\n",
            "-----------------------------------------------------------\n",
            "-----------------------------------------------------------\n",
            "Cliente: 5 esta comprando 5 productos.\n",
            "Productos en gondola despues de la compra: 5\n",
            "-----------------------------------------------------------\n",
            "-----------------------------------------------------------\n",
            "Cliente: 2 esta comprando 5 productos.\n",
            "Productos en gondola despues de la compra: 0\n",
            "-----------------------------------------------------------\n"
          ]
        }
      ]
    }
  ]
}